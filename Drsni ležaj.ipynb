{
 "cells": [
  {
   "cell_type": "markdown",
   "id": "b29163fd",
   "metadata": {},
   "source": [
    "# Drsni ležaj"
   ]
  },
  {
   "cell_type": "code",
   "execution_count": 9,
   "id": "124490f0",
   "metadata": {},
   "outputs": [
    {
     "ename": "SyntaxError",
     "evalue": "invalid syntax (91006831.py, line 1)",
     "output_type": "error",
     "traceback": [
      "\u001b[1;36m  Input \u001b[1;32mIn [9]\u001b[1;36m\u001b[0m\n\u001b[1;33m    python pip install \"jupyter_server>=2.0.0\"\u001b[0m\n\u001b[1;37m           ^\u001b[0m\n\u001b[1;31mSyntaxError\u001b[0m\u001b[1;31m:\u001b[0m invalid syntax\n"
     ]
    }
   ],
   "source": [
    "python pip install \"jupyter_server>=2.0.0\""
   ]
  },
  {
   "cell_type": "code",
   "execution_count": 7,
   "id": "4d293bb1",
   "metadata": {},
   "outputs": [],
   "source": [
    "import numpy as np"
   ]
  },
  {
   "cell_type": "code",
   "execution_count": null,
   "id": "be4a7607",
   "metadata": {},
   "outputs": [],
   "source": [
    "ena = np.array([87.5, 2554.14, 1242\t12,169592\t23,411596\t39,002046\t51,308633\t0,062796\t0,006819\n",
    "])"
   ]
  }
 ],
 "metadata": {
  "kernelspec": {
   "display_name": "Python 3 (ipykernel)",
   "language": "python",
   "name": "python3"
  },
  "language_info": {
   "codemirror_mode": {
    "name": "ipython",
    "version": 3
   },
   "file_extension": ".py",
   "mimetype": "text/x-python",
   "name": "python",
   "nbconvert_exporter": "python",
   "pygments_lexer": "ipython3",
   "version": "3.9.12"
  }
 },
 "nbformat": 4,
 "nbformat_minor": 5
}
